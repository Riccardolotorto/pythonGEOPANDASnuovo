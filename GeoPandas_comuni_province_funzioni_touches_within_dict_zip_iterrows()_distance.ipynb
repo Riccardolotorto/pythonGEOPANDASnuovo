{
  "nbformat": 4,
  "nbformat_minor": 0,
  "metadata": {
    "colab": {
      "provenance": [],
      "mount_file_id": "16_FlrjqBHFOup0K0QMl0cCjlujwRiyeC",
      "authorship_tag": "ABX9TyOuZy/YAwyta2NCdAlmIt71",
      "include_colab_link": true
    },
    "kernelspec": {
      "name": "python3",
      "display_name": "Python 3"
    },
    "language_info": {
      "name": "python"
    }
  },
  "cells": [
    {
      "cell_type": "markdown",
      "metadata": {
        "id": "view-in-github",
        "colab_type": "text"
      },
      "source": [
        "<a href=\"https://colab.research.google.com/github/Riccardolotorto/pythonGEOPANDASnuovo/blob/main/GeoPandas_comuni_province_funzioni_touches_within_dict_zip_iterrows()_distance.ipynb\" target=\"_parent\"><img src=\"https://colab.research.google.com/assets/colab-badge.svg\" alt=\"Open In Colab\"/></a>"
      ]
    },
    {
      "cell_type": "code",
      "execution_count": null,
      "metadata": {
        "id": "myOL7x8D07CL"
      },
      "outputs": [],
      "source": [
        "!pip install geopandas contextily"
      ]
    },
    {
      "cell_type": "code",
      "source": [
        "import pandas as pd\n",
        "import geopandas as gpd\n",
        "import contextily as ctx"
      ],
      "metadata": {
        "id": "fyA2V2SN1Ucm"
      },
      "execution_count": null,
      "outputs": []
    },
    {
      "cell_type": "code",
      "source": [
        "comuni = gpd.read_file(\"/content/drive/MyDrive/Colab Notebooks/Com01012022_g\")\n",
        "province = gpd.read_file(\"/content/drive/MyDrive/Colab Notebooks/ProvCM01012022_g\")"
      ],
      "metadata": {
        "id": "BvhXIixk1lR8"
      },
      "execution_count": null,
      "outputs": []
    },
    {
      "cell_type": "markdown",
      "source": [
        "1. dato il nome di una provincia inserito dall'utente, visualizzarne i confini su una mappa di contextily"
      ],
      "metadata": {
        "id": "b1tdLzaQ1061"
      }
    },
    {
      "cell_type": "code",
      "source": [
        "nome = input(\"inserisci nome provincia: \")\n",
        "provincia_selezionata = province[province[\"DEN_UTS\"] == nome.capitalize()].to_crs(3857)\n",
        "ax = provincia_selezionata.plot(figsize = (12, 8), edgecolor = \"k\", facecolor = \"none\", linewidth = 2)\n",
        "ctx.add_basemap(ax)"
      ],
      "metadata": {
        "id": "EVUWZIpv129V"
      },
      "execution_count": null,
      "outputs": []
    },
    {
      "cell_type": "markdown",
      "source": [
        "2. creare un nuovo geodataset contenente i comuni di quella provincia"
      ],
      "metadata": {
        "id": "20HNUbz62jxq"
      }
    },
    {
      "cell_type": "code",
      "source": [
        "comuni_provincia_selezionata = comuni.to_crs(3857)[comuni.to_crs(3857).within(provincia_selezionata.geometry.item())]"
      ],
      "metadata": {
        "id": "grjg3du42lOy"
      },
      "execution_count": null,
      "outputs": []
    },
    {
      "cell_type": "markdown",
      "source": [
        "3. visualizzare l'elenco dei comuni presenti in quella provincia. L'elenco deve essere in ordine alfabetico"
      ],
      "metadata": {
        "id": "v7309iYY3TNl"
      }
    },
    {
      "cell_type": "code",
      "source": [
        "comuni_provincia_selezionata.sort_values(by=\"COMUNE\")[[\"COMUNE\", \"Shape_Area\"]]"
      ],
      "metadata": {
        "id": "Fzp-PyYu3V_H"
      },
      "execution_count": null,
      "outputs": []
    },
    {
      "cell_type": "markdown",
      "source": [
        "4. costruire un dizionario contenente i nomi dei comuni della provincia inserita e la loro estensione"
      ],
      "metadata": {
        "id": "-LfHUh3j3l4d"
      }
    },
    {
      "cell_type": "code",
      "source": [
        "dizionario = dict(zip(comuni_provincia_selezionata[\"COMUNE\"], comuni_provincia_selezionata[\"Shape_Area\"]))   #zip: associa un valore ad un altro\n",
        "dizionario"
      ],
      "metadata": {
        "id": "_pUo8itP3thH"
      },
      "execution_count": null,
      "outputs": []
    },
    {
      "cell_type": "code",
      "source": [
        "#metodo di d'arienzo\n",
        "dizionario2 = {}   \n",
        "for index, row in comuni_provincia_selezionata.iterrows():\n",
        "  nomecomune = row[\"COMUNE\"]\n",
        "  estensione = row.geometry.area\n",
        "  dizionario2[nomecomune] = estensione"
      ],
      "metadata": {
        "id": "qLbaF5NV2ulj"
      },
      "execution_count": null,
      "outputs": []
    },
    {
      "cell_type": "markdown",
      "source": [
        "5. progettare una funzione che trasformi una superficie da kmq in miglia quadrate"
      ],
      "metadata": {
        "id": "btbLiBbi7cD-"
      }
    },
    {
      "cell_type": "code",
      "source": [
        "def conversione(kmq):\n",
        "  return kmq * 0.386102"
      ],
      "metadata": {
        "id": "zj4AutWB7mEW"
      },
      "execution_count": null,
      "outputs": []
    },
    {
      "cell_type": "markdown",
      "source": [
        "6. applicare la funzione appena creata al geodataset dei comuni della provincia, aggiungendo una colonna denominata superficeInMigliaQuadrate"
      ],
      "metadata": {
        "id": "MHw9GWbI8Oc8"
      }
    },
    {
      "cell_type": "code",
      "source": [
        "comuni_provincia_selezionata[\"superficieInMigliaQuadrate\"] = conversione(comuni_provincia_selezionata[\"Shape_Area\"]/1000000) #trasforma la colonnna shape da mQ in kmQ\n",
        "comuni_provincia_selezionata"
      ],
      "metadata": {
        "id": "ctIW2VTy8RBd"
      },
      "execution_count": null,
      "outputs": []
    },
    {
      "cell_type": "markdown",
      "source": [
        "7. . creare una altro geodataset contenente i comuni che confinano con la provincia inserita dall'utente"
      ],
      "metadata": {
        "id": "6H3w2zLM_Rhb"
      }
    },
    {
      "cell_type": "code",
      "source": [
        "comuni_confinanti_provinciaSelezionata = comuni.to_crs(3857)[comuni.to_crs(3857).touches(provincia_selezionata.geometry.item())]\n",
        "comuni_confinanti_provinciaSelezionata"
      ],
      "metadata": {
        "id": "0hbkXcCK_UBM"
      },
      "execution_count": null,
      "outputs": []
    },
    {
      "cell_type": "markdown",
      "source": [
        "8. calcolare l'estensione complessiva  in miglia quadrate dei comuni che confinano con la provincia inserita dall'utente"
      ],
      "metadata": {
        "id": "6srAqJviB1mG"
      }
    },
    {
      "cell_type": "code",
      "source": [
        "comuni_confinanti_provinciaSelezionata[\"superficieInMigliaQuadrate\"] = conversione(comuni_confinanti_provinciaSelezionata[\"Shape_Area\"]/1000000) #trasforma la colonnna shape da mQ in kmQ\n",
        "int(comuni_confinanti_provinciaSelezionata[\"superficieInMigliaQuadrate\"].sum())"
      ],
      "metadata": {
        "colab": {
          "base_uri": "https://localhost:8080/"
        },
        "id": "1ndKKEogB7ct",
        "outputId": "bb7bd9ba-e6ec-4297-f6df-a37ad958a0f6"
      },
      "execution_count": null,
      "outputs": [
        {
          "output_type": "execute_result",
          "data": {
            "text/plain": [
              "219983650"
            ]
          },
          "metadata": {},
          "execution_count": 77
        }
      ]
    },
    {
      "cell_type": "markdown",
      "source": [
        "9.  visualizzare il comune confinante più esteso"
      ],
      "metadata": {
        "id": "p004NIj_CV11"
      }
    },
    {
      "cell_type": "code",
      "source": [
        "comune_confinate_maxEsteso = comuni_confinanti_provinciaSelezionata[comuni_confinanti_provinciaSelezionata[\"Shape_Area\"] == comuni_confinanti_provinciaSelezionata[\"Shape_Area\"].max()]\n",
        "comune_confinate_maxEsteso"
      ],
      "metadata": {
        "id": "StkfP2pQCbX8"
      },
      "execution_count": null,
      "outputs": []
    },
    {
      "cell_type": "markdown",
      "source": [
        "10. calcolare la distanza tra il capoluogo della provincia inserita dall'utente e Milano"
      ],
      "metadata": {
        "id": "qtU0uOy6C6na"
      }
    },
    {
      "cell_type": "code",
      "source": [
        "d = int(provincia_selezionata.distance(province[province[\"DEN_UTS\"] == \"Milano\"].to_crs(3857).geometry.item()))\n",
        "d"
      ],
      "metadata": {
        "colab": {
          "base_uri": "https://localhost:8080/"
        },
        "id": "YMvXkx6cDEjh",
        "outputId": "081283c9-fad1-4faf-caff-4f07c913e3db"
      },
      "execution_count": null,
      "outputs": [
        {
          "output_type": "execute_result",
          "data": {
            "text/plain": [
              "76100"
            ]
          },
          "metadata": {},
          "execution_count": 100
        }
      ]
    }
  ]
}