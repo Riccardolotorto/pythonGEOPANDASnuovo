{
  "nbformat": 4,
  "nbformat_minor": 0,
  "metadata": {
    "colab": {
      "provenance": [],
      "mount_file_id": "1L7EjRbUemx4AGHpmuRq7MJz7j0-HeR_-",
      "authorship_tag": "ABX9TyNPxT9SLxVJd8poPAkqHw22",
      "include_colab_link": true
    },
    "kernelspec": {
      "name": "python3",
      "display_name": "Python 3"
    },
    "language_info": {
      "name": "python"
    }
  },
  "cells": [
    {
      "cell_type": "markdown",
      "metadata": {
        "id": "view-in-github",
        "colab_type": "text"
      },
      "source": [
        "<a href=\"https://colab.research.google.com/github/Riccardolotorto/pythonGEOPANDASnuovo/blob/main/GeoPandas_distance_DataFrame_to_GeoDataFrame_negazione.ipynb\" target=\"_parent\"><img src=\"https://colab.research.google.com/assets/colab-badge.svg\" alt=\"Open In Colab\"/></a>"
      ]
    },
    {
      "cell_type": "code",
      "execution_count": null,
      "metadata": {
        "id": "kE2JZWnC0VNr"
      },
      "outputs": [],
      "source": [
        "!pip install geopandas contextily"
      ]
    },
    {
      "cell_type": "code",
      "source": [
        "import pandas as pd\n",
        "import geopandas as gpd\n",
        "import contextily as ctx\n",
        "import matplotlib.pyplot as plt"
      ],
      "metadata": {
        "id": "I9DyQdjf0sYZ"
      },
      "execution_count": 2,
      "outputs": []
    },
    {
      "cell_type": "code",
      "source": [
        "df = pd.read_csv(\"/content/drive/MyDrive/Colab Notebooks/sosta_turistici.csv\", sep = \";\")"
      ],
      "metadata": {
        "id": "OB6pSiD7006R"
      },
      "execution_count": 3,
      "outputs": []
    },
    {
      "cell_type": "markdown",
      "source": [
        "1. trasformare il dataframe di pandas in un geodataframe di geopandas"
      ],
      "metadata": {
        "id": "Ng4gQgPU1sgu"
      }
    },
    {
      "cell_type": "code",
      "source": [
        "from geopandas import GeoDataFrame\n",
        "from shapely.geometry import Point\n",
        "geometry = [Point(xy) for xy in zip(df[\"LONG_X_4326\"], df[\"LAT_Y_4326\"])]\n",
        "df = df.drop(['LONG_X_4326', 'LAT_Y_4326'], axis=1)\n",
        "parcheggi = GeoDataFrame(df, crs=\"EPSG:4326\", geometry=geometry)"
      ],
      "metadata": {
        "id": "OwvvoIzs1S_2"
      },
      "execution_count": 6,
      "outputs": []
    },
    {
      "cell_type": "code",
      "source": [
        "parcheggi.head()"
      ],
      "metadata": {
        "id": "KXnp2cIc1xuC"
      },
      "execution_count": null,
      "outputs": []
    },
    {
      "cell_type": "markdown",
      "source": [
        "2. mostrare il geodatframe su una mappa di contextily"
      ],
      "metadata": {
        "id": "w358XDFS16V-"
      }
    },
    {
      "cell_type": "code",
      "source": [
        "parcheggi3857 = parcheggi.to_crs(3857)"
      ],
      "metadata": {
        "id": "v6zdhNMF19p2"
      },
      "execution_count": 8,
      "outputs": []
    },
    {
      "cell_type": "code",
      "source": [
        "ax = parcheggi3857.plot(figsize = (17, 12), markersize = 10, color = 'red')\n",
        "ctx.add_basemap(ax)"
      ],
      "metadata": {
        "id": "73C59vmK2Cqk"
      },
      "execution_count": null,
      "outputs": []
    },
    {
      "cell_type": "markdown",
      "source": [
        "3. caricare il file dei quartieri di milano"
      ],
      "metadata": {
        "id": "Svwc2PTw22Ma"
      }
    },
    {
      "cell_type": "code",
      "source": [
        "quartieri = gpd.read_file(\"/content/drive/MyDrive/Colab Notebooks/ds964_nil_wm.zip\")"
      ],
      "metadata": {
        "id": "LKBS3xsN3H3h"
      },
      "execution_count": 11,
      "outputs": []
    },
    {
      "cell_type": "markdown",
      "source": [
        "4. mostrare i quartieri su una mappa di contextily"
      ],
      "metadata": {
        "id": "IKW80k4F3hOU"
      }
    },
    {
      "cell_type": "code",
      "source": [
        "quartieri3857 = quartieri.to_crs(3857)"
      ],
      "metadata": {
        "id": "PANNvdx33km9"
      },
      "execution_count": 12,
      "outputs": []
    },
    {
      "cell_type": "code",
      "source": [
        "ax = quartieri3857.plot(figsize = (17, 12), edgecolor = \"k\", facecolor = 'none')\n",
        "ctx.add_basemap(ax)"
      ],
      "metadata": {
        "id": "z974v-zn3oIB"
      },
      "execution_count": null,
      "outputs": []
    },
    {
      "cell_type": "markdown",
      "source": [
        "5. salvare in un nuovo geodataframe i quartieri che contengono parcheggi"
      ],
      "metadata": {
        "id": "IZ2ELYN74KNI"
      }
    },
    {
      "cell_type": "code",
      "source": [
        "quartieriParcheggi = quartieri3857[quartieri3857.intersects(parcheggi3857.unary_union)]\n",
        "quartieriParcheggi"
      ],
      "metadata": {
        "id": "mrA3j-s_4cvT"
      },
      "execution_count": null,
      "outputs": []
    },
    {
      "cell_type": "markdown",
      "source": [
        "6. mostrare sulla mappa di contextily i quartieriParcheggi e i parcheggi"
      ],
      "metadata": {
        "id": "WcOxjlu35dS7"
      }
    },
    {
      "cell_type": "code",
      "source": [
        "ax = quartieriParcheggi.plot(figsize = (17, 12), edgecolor = \"k\", facecolor = 'none')\n",
        "parcheggi3857.plot(ax = ax, markersize = 10, color='red')\n",
        "ctx.add_basemap(ax)"
      ],
      "metadata": {
        "id": "mGIpnj-15l-c"
      },
      "execution_count": null,
      "outputs": []
    },
    {
      "cell_type": "markdown",
      "source": [
        "7. mostrare solo i parcheggi vicino ad una metropolitana"
      ],
      "metadata": {
        "id": "Zp-SoJ9T5_sh"
      }
    },
    {
      "cell_type": "code",
      "source": [
        "metropolitane = ['M1', 'M2', 'M3', 'M5']"
      ],
      "metadata": {
        "id": "QF5phSUo6sD5"
      },
      "execution_count": 19,
      "outputs": []
    },
    {
      "cell_type": "code",
      "source": [
        "parcheggiMetropolitana = parcheggi3857[parcheggi3857.localizzaz.str.contains('|'.join(metropolitane))]"
      ],
      "metadata": {
        "id": "FCVVk04S6KIi"
      },
      "execution_count": 20,
      "outputs": []
    },
    {
      "cell_type": "code",
      "source": [
        "ax = parcheggiMetropolitana.plot(figsize = (17, 12), markersize = 10, color = 'red')\n",
        "ctx.add_basemap(ax)"
      ],
      "metadata": {
        "id": "vD_mBAmF8HQU"
      },
      "execution_count": null,
      "outputs": []
    },
    {
      "cell_type": "markdown",
      "source": [
        "8. aggiumgere al dataset dei parcheggi i quartieri"
      ],
      "metadata": {
        "id": "p3kDtW3B8j_Y"
      }
    },
    {
      "cell_type": "code",
      "source": [
        "joined = gpd.sjoin(parcheggi3857, quartieriParcheggi, predicate = \"intersects\", how ='left')\n",
        "joined"
      ],
      "metadata": {
        "id": "ji94xtZS9sWC"
      },
      "execution_count": null,
      "outputs": []
    },
    {
      "cell_type": "markdown",
      "source": [
        "9. contare il numero di parcheggi per ogni quartiere"
      ],
      "metadata": {
        "id": "zTPmp10Q-YC4"
      }
    },
    {
      "cell_type": "code",
      "source": [
        "numParPerQuartiere = joined.groupby(\"NIL\")[['localizzaz']].count().reset_index()\n",
        "numParPerQuartiere"
      ],
      "metadata": {
        "id": "kgMQ_7Lw-a_a"
      },
      "execution_count": null,
      "outputs": []
    },
    {
      "cell_type": "markdown",
      "source": [
        "10. mostrare i quartieri di milano colorati diversamente in base al numero di parcheggi presenti"
      ],
      "metadata": {
        "id": "zetdYZZD-xW7"
      }
    },
    {
      "cell_type": "code",
      "source": [
        "finale = quartieriParcheggi.merge(numParPerQuartiere, on='NIL')\n",
        "ax = finale.plot(figsize = (17, 12), column = 'localizzaz', legend = True, cmap = 'Reds')\n",
        "ctx.add_basemap(ax)"
      ],
      "metadata": {
        "id": "53MeSVeZ-9zM"
      },
      "execution_count": null,
      "outputs": []
    },
    {
      "cell_type": "markdown",
      "source": [
        "11. salvare i quartieri di milano che non contengono parcheggi"
      ],
      "metadata": {
        "id": "Yo9l28zs_3mU"
      }
    },
    {
      "cell_type": "code",
      "source": [
        "quartieriNOParcheggi = quartieri3857[~quartieri3857.intersects(parcheggi3857.unary_union)]"
      ],
      "metadata": {
        "id": "xRYxsAg0_69F"
      },
      "execution_count": 25,
      "outputs": []
    },
    {
      "cell_type": "code",
      "source": [
        "ax = quartieriNOParcheggi.plot(figsize = (17, 12), edgecolor = \"k\", facecolor = 'none')\n",
        "ctx.add_basemap(ax)"
      ],
      "metadata": {
        "id": "vN2XELLxAqy4"
      },
      "execution_count": null,
      "outputs": []
    },
    {
      "cell_type": "markdown",
      "source": [
        "12. mostrare solo il confine di milano (usando però il dataset dei quartiere)"
      ],
      "metadata": {
        "id": "DoaU4yzTBdSN"
      }
    },
    {
      "cell_type": "code",
      "source": [
        "from shapely.ops import cascaded_union\n",
        "milanoOggetto = cascaded_union(quartieri3857.geometry)\n",
        "milano = gpd.GeoSeries(milanoOggetto)"
      ],
      "metadata": {
        "id": "pz2JayqFBlqR"
      },
      "execution_count": null,
      "outputs": []
    },
    {
      "cell_type": "code",
      "source": [
        "ax = milano.plot(figsize = (17, 12), edgecolor = 'k', facecolor = 'none', linewidth = 2)\n",
        "ctx.add_basemap(ax)"
      ],
      "metadata": {
        "id": "hakhYLIzDKLP"
      },
      "execution_count": null,
      "outputs": []
    },
    {
      "cell_type": "markdown",
      "source": [
        "13. visualizzare il quartiere con più parcheggi (elenco e mappa)"
      ],
      "metadata": {
        "id": "0xNhy2yXEfIZ"
      }
    },
    {
      "cell_type": "code",
      "source": [
        "quartiereMaggiore = finale[finale.localizzaz == finale.localizzaz.max()]\n",
        "quartiereMaggiore"
      ],
      "metadata": {
        "id": "Zo9NG265H_9S"
      },
      "execution_count": null,
      "outputs": []
    },
    {
      "cell_type": "code",
      "source": [
        "ax = quartiereMaggiore.plot(figsize = (17, 12), edgecolor = 'k', facecolor = 'none')\n",
        "ctx.add_basemap(ax)"
      ],
      "metadata": {
        "id": "Ecefd1jZIjYP"
      },
      "execution_count": null,
      "outputs": []
    },
    {
      "cell_type": "markdown",
      "source": [
        "14. analogo all'esercizio precedente, mostrare anche i parcheggi all'interno di esso"
      ],
      "metadata": {
        "id": "nSymQumUKWHc"
      }
    },
    {
      "cell_type": "code",
      "source": [
        "parcheggiQuartiereMaggiore = parcheggi3857[parcheggi3857.within(quartiereMaggiore.geometry.item())]"
      ],
      "metadata": {
        "id": "s59z-787KjZn"
      },
      "execution_count": 32,
      "outputs": []
    },
    {
      "cell_type": "code",
      "source": [
        "ax = quartiereMaggiore.plot(figsize = (17, 12), edgecolor = 'k', facecolor = 'none')\n",
        "parcheggiQuartiereMaggiore.plot(ax = ax, color = 'red', markersize = 15)\n",
        "ctx.add_basemap(ax)"
      ],
      "metadata": {
        "id": "NBid2AXSK1Tg"
      },
      "execution_count": null,
      "outputs": []
    },
    {
      "cell_type": "markdown",
      "source": [
        "15. far inserire dall'utente un punto con coordinate geografiche e mostrare con elenco e mappa i parcheggi a meno di 500 metri di distanza"
      ],
      "metadata": {
        "id": "dhr_4npsMH5u"
      }
    },
    {
      "cell_type": "code",
      "source": [
        "from shapely.geometry import Point\n",
        "longitudine = float(input(\"inserisci longitudine \"))\n",
        "latitudine = float(input(\"inserisci latitudine \"))\n",
        "punto = gpd.GeoSeries([Point(longitudine, latitudine)], crs = 4326).to_crs(3857)\n",
        "m500 = parcheggi3857[parcheggi3857.distance(punto.geometry.item()) < 500]\n",
        "m500"
      ],
      "metadata": {
        "id": "iuPrqIlgQsbp"
      },
      "execution_count": null,
      "outputs": []
    },
    {
      "cell_type": "code",
      "source": [
        "ax = m500.plot(figsize = (17, 12), markersize = 40, color = 'red')\n",
        "punto.plot(ax = ax, markersize = 15, color = 'blue')\n",
        "ctx.add_basemap(ax)"
      ],
      "metadata": {
        "id": "zqf4mzvvRfEm"
      },
      "execution_count": null,
      "outputs": []
    }
  ]
}