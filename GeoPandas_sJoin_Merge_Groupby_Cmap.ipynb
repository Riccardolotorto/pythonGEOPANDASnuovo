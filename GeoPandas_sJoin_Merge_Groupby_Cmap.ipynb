{
  "nbformat": 4,
  "nbformat_minor": 0,
  "metadata": {
    "colab": {
      "provenance": []
    },
    "kernelspec": {
      "name": "python3",
      "display_name": "Python 3"
    },
    "language_info": {
      "name": "python"
    }
  },
  "cells": [
    {
      "cell_type": "code",
      "source": [
        "!pip install geopandas contextily"
      ],
      "metadata": {
        "id": "TMvkT2q_1drJ"
      },
      "execution_count": null,
      "outputs": []
    },
    {
      "cell_type": "code",
      "execution_count": 3,
      "metadata": {
        "id": "cm9i0M4z1QXd"
      },
      "outputs": [],
      "source": [
        "import pandas as pd\n",
        "import geopandas as gpd\n",
        "import contextily"
      ]
    },
    {
      "cell_type": "code",
      "source": [
        "incidenti = gpd.read_file(\"/content/drive/MyDrive/Colab Notebooks/incidenti.zip\")"
      ],
      "metadata": {
        "id": "ywUd9lB21rwy"
      },
      "execution_count": 4,
      "outputs": []
    },
    {
      "cell_type": "code",
      "source": [
        "incidenti.crs"
      ],
      "metadata": {
        "id": "VGzBI-ew6Pe9"
      },
      "execution_count": null,
      "outputs": []
    },
    {
      "cell_type": "code",
      "source": [
        "incidenti.plot(markersize = 1, color = \"red\")"
      ],
      "metadata": {
        "id": "5Q5Noruk2Y5g"
      },
      "execution_count": null,
      "outputs": []
    },
    {
      "cell_type": "code",
      "source": [
        "incidenti3857 = incidenti.to_crs(3857)"
      ],
      "metadata": {
        "id": "R-gxiBdq6Tue"
      },
      "execution_count": 7,
      "outputs": []
    },
    {
      "cell_type": "code",
      "source": [
        "ax = incidenti3857.plot(figsize = (14, 8), markersize = 1, color = \"red\")\n",
        "contextily.add_basemap(ax)"
      ],
      "metadata": {
        "id": "Tvwr6WL16Za9"
      },
      "execution_count": null,
      "outputs": []
    },
    {
      "cell_type": "code",
      "source": [
        "comuni = gpd.read_file(\"/content/drive/MyDrive/Colab Notebooks/Com01012022_g\")"
      ],
      "metadata": {
        "id": "pvfG4A147KRH"
      },
      "execution_count": 10,
      "outputs": []
    },
    {
      "cell_type": "code",
      "source": [
        "comuni3857 = comuni.to_crs(3857)"
      ],
      "metadata": {
        "id": "2AcihU367u0-"
      },
      "execution_count": 13,
      "outputs": []
    },
    {
      "cell_type": "code",
      "source": [
        "comuniIncidenti = comuni3857[comuni3857.intersects(incidenti3857.geometry.unary_union)]"
      ],
      "metadata": {
        "id": "Dli92d4g7yMN"
      },
      "execution_count": 19,
      "outputs": []
    },
    {
      "cell_type": "code",
      "source": [
        "ax = comuniIncidenti.plot(figsize = (12, 10), edgecolor = \"k\", facecolor = \"none\")\n",
        "incidenti3857.plot(ax = ax, markersize = 2, color = \"red\")\n",
        "contextily.add_basemap(ax)"
      ],
      "metadata": {
        "id": "YZYWDbZm76jc"
      },
      "execution_count": null,
      "outputs": []
    },
    {
      "cell_type": "markdown",
      "source": [
        "esercizio per trovare il numero di incidenti nei quartieri"
      ],
      "metadata": {
        "id": "7Z7sVyBnAj6M"
      }
    },
    {
      "cell_type": "code",
      "source": [
        "joined = gpd.sjoin(incidenti3857, comuniIncidenti, predicate = \"intersects\", how=\"left\")"
      ],
      "metadata": {
        "id": "b_NOc29pAqUG"
      },
      "execution_count": 23,
      "outputs": []
    },
    {
      "cell_type": "code",
      "source": [
        "joined"
      ],
      "metadata": {
        "id": "YYtX1omnCQRL"
      },
      "execution_count": null,
      "outputs": []
    },
    {
      "cell_type": "code",
      "source": [
        "#faccio il groupby del numero di incidenti per ogni quartiere\n",
        "incidenti_per_comune = joined.groupby(\"COMUNE\")[[\"anno\"]].count().reset_index()\n",
        "incidenti_per_comune"
      ],
      "metadata": {
        "id": "pqQedOMfBYgK"
      },
      "execution_count": null,
      "outputs": []
    },
    {
      "cell_type": "code",
      "source": [
        "finale = comuniIncidenti.merge(incidenti_per_comune)\n",
        "finale"
      ],
      "metadata": {
        "id": "91WXDdfuCEFQ"
      },
      "execution_count": null,
      "outputs": []
    },
    {
      "cell_type": "code",
      "source": [
        "ax = finale.plot(figsize = (15, 12), edgecolor = \"k\", legend = True, column = \"anno\", cmap = \"Greens\", alpha = 0.5)\n",
        "contextily.add_basemap(ax)"
      ],
      "metadata": {
        "id": "dnyEFX9WCjld"
      },
      "execution_count": null,
      "outputs": []
    }
  ]
}