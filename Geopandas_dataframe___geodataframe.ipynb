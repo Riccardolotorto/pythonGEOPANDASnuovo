{
  "nbformat": 4,
  "nbformat_minor": 0,
  "metadata": {
    "colab": {
      "provenance": [],
      "collapsed_sections": [
        "uWzJRgP7Z390"
      ]
    },
    "kernelspec": {
      "name": "python3",
      "display_name": "Python 3"
    },
    "language_info": {
      "name": "python"
    }
  },
  "cells": [
    {
      "cell_type": "markdown",
      "source": [
        "#datframe -> geodataframe"
      ],
      "metadata": {
        "id": "uWzJRgP7Z390"
      }
    },
    {
      "cell_type": "code",
      "source": [
        "!pip install geopandas"
      ],
      "metadata": {
        "id": "rBdULM1kUC3M"
      },
      "execution_count": null,
      "outputs": []
    },
    {
      "cell_type": "code",
      "execution_count": 2,
      "metadata": {
        "id": "uPYVCLs4T56n"
      },
      "outputs": [],
      "source": [
        "import pandas as pd\n",
        "import geopandas as gpd"
      ]
    },
    {
      "cell_type": "code",
      "source": [
        "df = pd.read_csv(\"http://servizi.apss.tn.it/opendata/FARM001.csv\")"
      ],
      "metadata": {
        "id": "bTOhpG1DUVwp"
      },
      "execution_count": 7,
      "outputs": []
    },
    {
      "cell_type": "code",
      "source": [
        "df = df.drop(df[df[\"LATITUDINE_P\"].str.contains(\"-\")].index) #elimina righe del datframe con contenuto - nella colonna specificata"
      ],
      "metadata": {
        "id": "gBz0d-FWZXw0"
      },
      "execution_count": 9,
      "outputs": []
    },
    {
      "cell_type": "code",
      "source": [
        "df"
      ],
      "metadata": {
        "id": "Zm5Lht1JY9uD"
      },
      "execution_count": null,
      "outputs": []
    },
    {
      "cell_type": "code",
      "source": [
        "from geopandas import GeoDataFrame\n",
        "from shapely.geometry import Point\n",
        "\n",
        "geometry = [Point(xy) for xy in zip(df[\"LONGITUDINE_P\"], df[\"LATITUDINE_P\"])]\n",
        "df = df.drop(['LONGITUDINE_P', 'LATITUDINE_P'], axis=1)\n",
        "farmacie = GeoDataFrame(df, crs=\"EPSG:4326\", geometry=geometry) #epsg 4326: per coordinate geografiche"
      ],
      "metadata": {
        "id": "zU1QMW5uX-Ui"
      },
      "execution_count": 11,
      "outputs": []
    },
    {
      "cell_type": "code",
      "source": [
        "farmacie"
      ],
      "metadata": {
        "id": "BxUbZQgsY35V"
      },
      "execution_count": null,
      "outputs": []
    },
    {
      "cell_type": "markdown",
      "source": [
        "#esercizi"
      ],
      "metadata": {
        "id": "NVMlp-g3Z95u"
      }
    },
    {
      "cell_type": "markdown",
      "source": [
        "1. visualizzare su una mappa la posizione di una delle farmacie presenti nel dataset: l'utente inserisce parte del nome e il notebook visualizza una mappa della zona in cui si trova la farmacia con un marker nelal poszione della farmacia."
      ],
      "metadata": {
        "id": "I8cs6t_KaHsL"
      }
    },
    {
      "cell_type": "code",
      "source": [
        "farmacie"
      ],
      "metadata": {
        "id": "3Go_67NcaHdy"
      },
      "execution_count": null,
      "outputs": []
    },
    {
      "cell_type": "code",
      "source": [
        "!pip install contextily"
      ],
      "metadata": {
        "id": "_pwzDhhKa4Mj"
      },
      "execution_count": null,
      "outputs": []
    },
    {
      "cell_type": "code",
      "source": [
        "import contextily"
      ],
      "metadata": {
        "id": "-ikXxk73a9I6"
      },
      "execution_count": 18,
      "outputs": []
    },
    {
      "cell_type": "code",
      "source": [
        "nome = input(\"inserisci farmacia\")\n",
        "farmaciaScelta = farmacie.to_crs(3857)[farmacie.to_crs(3857)[\"FARMACIA\"].str.contains(nome.upper())]\n",
        "ax = farmaciaScelta.plot(figsize = (12, 12), color = \"red\", markersize = 10)\n",
        "contextily.add_basemap(ax)"
      ],
      "metadata": {
        "id": "CRFs--VgaeZz"
      },
      "execution_count": null,
      "outputs": []
    },
    {
      "cell_type": "markdown",
      "source": [
        "2. visualizzare tutte le farmacie presenti nel geodataset con i confini dei comuni in cui si trovano"
      ],
      "metadata": {
        "id": "CCwg9dbBbavO"
      }
    },
    {
      "cell_type": "code",
      "source": [
        "comuni = gpd.read_file(\"/content/drive/MyDrive/Colab Notebooks/Com01012022_g\")"
      ],
      "metadata": {
        "id": "bTTgqFZmbo39"
      },
      "execution_count": 22,
      "outputs": []
    },
    {
      "cell_type": "code",
      "source": [
        "comuniFarmacie = comuni.to_crs(3857)[comuni.to_crs(3857).intersects(farmacie.to_crs(3857).unary_union)]\n",
        "ax = comuniFarmacie.plot(figsize = (12, 12), edgecolor = \"black\", linewidth = 2, facecolor = \"none\")\n",
        "farmacie.to_crs(3857).plot(ax = ax, markersize = 10, color = \"red\")\n",
        "contextily.add_basemap(ax)"
      ],
      "metadata": {
        "id": "EYSwTPN7b4bL"
      },
      "execution_count": null,
      "outputs": []
    },
    {
      "cell_type": "markdown",
      "source": [
        "3. visualizzare un elenco dei comuni con il numero di farmacie presenti in ogni comune"
      ],
      "metadata": {
        "id": "fYU7a_UicrtA"
      }
    },
    {
      "cell_type": "code",
      "source": [
        "farmacie = farmacie.drop(\"COMUNE\", axis = 1)"
      ],
      "metadata": {
        "id": "WtZAbVb3pDha"
      },
      "execution_count": 59,
      "outputs": []
    },
    {
      "cell_type": "code",
      "source": [
        "joined = gpd.sjoin(farmacie.to_crs(3857), comuniFarmacie, predicate = \"intersects\", how=\"left\")\n",
        "joined"
      ],
      "metadata": {
        "id": "T2KVQlM0pCyL"
      },
      "execution_count": null,
      "outputs": []
    },
    {
      "cell_type": "code",
      "source": [
        "farmacie_per_comune = joined.groupby(\"COMUNE\")[[\"FARMACIA\"]].count().sort_values(by = \"FARMACIA\", ascending = False).reset_index()\n",
        "farmacie_per_comune"
      ],
      "metadata": {
        "colab": {
          "base_uri": "https://localhost:8080/",
          "height": 423
        },
        "id": "wiXFdtGchU0C",
        "outputId": "3de8debb-e878-4418-ccaa-cee446afb3f7"
      },
      "execution_count": 74,
      "outputs": [
        {
          "output_type": "execute_result",
          "data": {
            "text/plain": [
              "                COMUNE  FARMACIA\n",
              "0               TRENTO        26\n",
              "1             ROVERETO        11\n",
              "2                 ARCO         5\n",
              "3    PERGINE VALSUGANA         5\n",
              "4       RIVA DEL GARDA         4\n",
              "..                 ...       ...\n",
              "96        COMANO TERME         1\n",
              "97                CLES         1\n",
              "98    CEMBRA LISIGNAGO         1\n",
              "99            CAVEDAGO         1\n",
              "100    ZIANO DI FIEMME         1\n",
              "\n",
              "[101 rows x 2 columns]"
            ],
            "text/html": [
              "\n",
              "  <div id=\"df-fb7ba77e-9e52-4b1f-b1c4-8423627c51ee\">\n",
              "    <div class=\"colab-df-container\">\n",
              "      <div>\n",
              "<style scoped>\n",
              "    .dataframe tbody tr th:only-of-type {\n",
              "        vertical-align: middle;\n",
              "    }\n",
              "\n",
              "    .dataframe tbody tr th {\n",
              "        vertical-align: top;\n",
              "    }\n",
              "\n",
              "    .dataframe thead th {\n",
              "        text-align: right;\n",
              "    }\n",
              "</style>\n",
              "<table border=\"1\" class=\"dataframe\">\n",
              "  <thead>\n",
              "    <tr style=\"text-align: right;\">\n",
              "      <th></th>\n",
              "      <th>COMUNE</th>\n",
              "      <th>FARMACIA</th>\n",
              "    </tr>\n",
              "  </thead>\n",
              "  <tbody>\n",
              "    <tr>\n",
              "      <th>0</th>\n",
              "      <td>TRENTO</td>\n",
              "      <td>26</td>\n",
              "    </tr>\n",
              "    <tr>\n",
              "      <th>1</th>\n",
              "      <td>ROVERETO</td>\n",
              "      <td>11</td>\n",
              "    </tr>\n",
              "    <tr>\n",
              "      <th>2</th>\n",
              "      <td>ARCO</td>\n",
              "      <td>5</td>\n",
              "    </tr>\n",
              "    <tr>\n",
              "      <th>3</th>\n",
              "      <td>PERGINE VALSUGANA</td>\n",
              "      <td>5</td>\n",
              "    </tr>\n",
              "    <tr>\n",
              "      <th>4</th>\n",
              "      <td>RIVA DEL GARDA</td>\n",
              "      <td>4</td>\n",
              "    </tr>\n",
              "    <tr>\n",
              "      <th>...</th>\n",
              "      <td>...</td>\n",
              "      <td>...</td>\n",
              "    </tr>\n",
              "    <tr>\n",
              "      <th>96</th>\n",
              "      <td>COMANO TERME</td>\n",
              "      <td>1</td>\n",
              "    </tr>\n",
              "    <tr>\n",
              "      <th>97</th>\n",
              "      <td>CLES</td>\n",
              "      <td>1</td>\n",
              "    </tr>\n",
              "    <tr>\n",
              "      <th>98</th>\n",
              "      <td>CEMBRA LISIGNAGO</td>\n",
              "      <td>1</td>\n",
              "    </tr>\n",
              "    <tr>\n",
              "      <th>99</th>\n",
              "      <td>CAVEDAGO</td>\n",
              "      <td>1</td>\n",
              "    </tr>\n",
              "    <tr>\n",
              "      <th>100</th>\n",
              "      <td>ZIANO DI FIEMME</td>\n",
              "      <td>1</td>\n",
              "    </tr>\n",
              "  </tbody>\n",
              "</table>\n",
              "<p>101 rows × 2 columns</p>\n",
              "</div>\n",
              "      <button class=\"colab-df-convert\" onclick=\"convertToInteractive('df-fb7ba77e-9e52-4b1f-b1c4-8423627c51ee')\"\n",
              "              title=\"Convert this dataframe to an interactive table.\"\n",
              "              style=\"display:none;\">\n",
              "        \n",
              "  <svg xmlns=\"http://www.w3.org/2000/svg\" height=\"24px\"viewBox=\"0 0 24 24\"\n",
              "       width=\"24px\">\n",
              "    <path d=\"M0 0h24v24H0V0z\" fill=\"none\"/>\n",
              "    <path d=\"M18.56 5.44l.94 2.06.94-2.06 2.06-.94-2.06-.94-.94-2.06-.94 2.06-2.06.94zm-11 1L8.5 8.5l.94-2.06 2.06-.94-2.06-.94L8.5 2.5l-.94 2.06-2.06.94zm10 10l.94 2.06.94-2.06 2.06-.94-2.06-.94-.94-2.06-.94 2.06-2.06.94z\"/><path d=\"M17.41 7.96l-1.37-1.37c-.4-.4-.92-.59-1.43-.59-.52 0-1.04.2-1.43.59L10.3 9.45l-7.72 7.72c-.78.78-.78 2.05 0 2.83L4 21.41c.39.39.9.59 1.41.59.51 0 1.02-.2 1.41-.59l7.78-7.78 2.81-2.81c.8-.78.8-2.07 0-2.86zM5.41 20L4 18.59l7.72-7.72 1.47 1.35L5.41 20z\"/>\n",
              "  </svg>\n",
              "      </button>\n",
              "      \n",
              "  <style>\n",
              "    .colab-df-container {\n",
              "      display:flex;\n",
              "      flex-wrap:wrap;\n",
              "      gap: 12px;\n",
              "    }\n",
              "\n",
              "    .colab-df-convert {\n",
              "      background-color: #E8F0FE;\n",
              "      border: none;\n",
              "      border-radius: 50%;\n",
              "      cursor: pointer;\n",
              "      display: none;\n",
              "      fill: #1967D2;\n",
              "      height: 32px;\n",
              "      padding: 0 0 0 0;\n",
              "      width: 32px;\n",
              "    }\n",
              "\n",
              "    .colab-df-convert:hover {\n",
              "      background-color: #E2EBFA;\n",
              "      box-shadow: 0px 1px 2px rgba(60, 64, 67, 0.3), 0px 1px 3px 1px rgba(60, 64, 67, 0.15);\n",
              "      fill: #174EA6;\n",
              "    }\n",
              "\n",
              "    [theme=dark] .colab-df-convert {\n",
              "      background-color: #3B4455;\n",
              "      fill: #D2E3FC;\n",
              "    }\n",
              "\n",
              "    [theme=dark] .colab-df-convert:hover {\n",
              "      background-color: #434B5C;\n",
              "      box-shadow: 0px 1px 3px 1px rgba(0, 0, 0, 0.15);\n",
              "      filter: drop-shadow(0px 1px 2px rgba(0, 0, 0, 0.3));\n",
              "      fill: #FFFFFF;\n",
              "    }\n",
              "  </style>\n",
              "\n",
              "      <script>\n",
              "        const buttonEl =\n",
              "          document.querySelector('#df-fb7ba77e-9e52-4b1f-b1c4-8423627c51ee button.colab-df-convert');\n",
              "        buttonEl.style.display =\n",
              "          google.colab.kernel.accessAllowed ? 'block' : 'none';\n",
              "\n",
              "        async function convertToInteractive(key) {\n",
              "          const element = document.querySelector('#df-fb7ba77e-9e52-4b1f-b1c4-8423627c51ee');\n",
              "          const dataTable =\n",
              "            await google.colab.kernel.invokeFunction('convertToInteractive',\n",
              "                                                     [key], {});\n",
              "          if (!dataTable) return;\n",
              "\n",
              "          const docLinkHtml = 'Like what you see? Visit the ' +\n",
              "            '<a target=\"_blank\" href=https://colab.research.google.com/notebooks/data_table.ipynb>data table notebook</a>'\n",
              "            + ' to learn more about interactive tables.';\n",
              "          element.innerHTML = '';\n",
              "          dataTable['output_type'] = 'display_data';\n",
              "          await google.colab.output.renderOutput(dataTable, element);\n",
              "          const docLink = document.createElement('div');\n",
              "          docLink.innerHTML = docLinkHtml;\n",
              "          element.appendChild(docLink);\n",
              "        }\n",
              "      </script>\n",
              "    </div>\n",
              "  </div>\n",
              "  "
            ]
          },
          "metadata": {},
          "execution_count": 74
        }
      ]
    },
    {
      "cell_type": "markdown",
      "source": [
        "4. visualizzare una mappa dei comuni con le superfici colorate in base al numero di farmacie che si trovano nel comune. Visualizzare anche la legenda."
      ],
      "metadata": {
        "id": "-4zLCKiehwdC"
      }
    },
    {
      "cell_type": "code",
      "source": [
        "comuniFarmacie[\"COMUNE\"] = comuniFarmacie[\"COMUNE\"].str.upper() #mette in maiuscolo tutti i comuni"
      ],
      "metadata": {
        "id": "xwcCDE6onVf4"
      },
      "execution_count": 56,
      "outputs": []
    },
    {
      "cell_type": "code",
      "source": [
        "finale = comuniFarmacie.merge(farmacie_per_comune, on = \"COMUNE\")\n",
        "finale"
      ],
      "metadata": {
        "id": "u9ySGdgvhx-1"
      },
      "execution_count": null,
      "outputs": []
    },
    {
      "cell_type": "code",
      "source": [
        "ax = finale.plot(figsize = (12, 10), column = \"FARMACIA\", legend = True, alpha = 0.8, cmap = \"Greens\")\n",
        "farmacie.to_crs(3857).plot(ax = ax, markersize = 10, color = \"red\")\n",
        "contextily.add_basemap(ax)"
      ],
      "metadata": {
        "id": "aZYqHEpqiOcR"
      },
      "execution_count": null,
      "outputs": []
    },
    {
      "cell_type": "markdown",
      "source": [
        "5. visualizzare un grafico a torta con il numero di farmacie per ogni comune"
      ],
      "metadata": {
        "id": "1ExoYsgSj6m6"
      }
    },
    {
      "cell_type": "code",
      "source": [
        "import matplotlib.pyplot as plt"
      ],
      "metadata": {
        "id": "IDP6WkBNkKth"
      },
      "execution_count": 70,
      "outputs": []
    },
    {
      "cell_type": "code",
      "source": [
        "dati = farmacie_per_comune[\"FARMACIA\"]\n",
        "stringhe = farmacie_per_comune[\"COMUNE\"]\n",
        "plt.figure(figsize=(16, 8))\n",
        "plt.pie(dati, labels=stringhe, autopct='%1.1f%%')\n",
        "plt.show()"
      ],
      "metadata": {
        "id": "LtIJVFI5j8nr"
      },
      "execution_count": null,
      "outputs": []
    }
  ]
}