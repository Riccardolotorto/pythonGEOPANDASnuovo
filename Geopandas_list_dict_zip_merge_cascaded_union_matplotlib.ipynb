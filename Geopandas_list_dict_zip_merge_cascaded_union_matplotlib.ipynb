{
  "nbformat": 4,
  "nbformat_minor": 0,
  "metadata": {
    "colab": {
      "provenance": [],
      "authorship_tag": "ABX9TyOOPWF6wyb7eq5BlimP9R5U",
      "include_colab_link": true
    },
    "kernelspec": {
      "name": "python3",
      "display_name": "Python 3"
    },
    "language_info": {
      "name": "python"
    }
  },
  "cells": [
    {
      "cell_type": "markdown",
      "metadata": {
        "id": "view-in-github",
        "colab_type": "text"
      },
      "source": [
        "<a href=\"https://colab.research.google.com/github/Riccardolotorto/pythonGEOPANDASnuovo/blob/main/Geopandas_list_dict_zip_merge_cascaded_union_matplotlib.ipynb\" target=\"_parent\"><img src=\"https://colab.research.google.com/assets/colab-badge.svg\" alt=\"Open In Colab\"/></a>"
      ]
    },
    {
      "cell_type": "code",
      "source": [
        "from google.colab import drive\n",
        "drive.mount('/content/drive')"
      ],
      "metadata": {
        "colab": {
          "base_uri": "https://localhost:8080/"
        },
        "id": "XYU6I6a-2Py0",
        "outputId": "c433ecb5-227f-489f-fa0e-d52cdac55990"
      },
      "execution_count": 1,
      "outputs": [
        {
          "output_type": "stream",
          "name": "stdout",
          "text": [
            "Mounted at /content/drive\n"
          ]
        }
      ]
    },
    {
      "cell_type": "code",
      "source": [
        "!pip install geopandas contextily"
      ],
      "metadata": {
        "id": "5Qul5skE4nyp"
      },
      "execution_count": null,
      "outputs": []
    },
    {
      "cell_type": "code",
      "source": [
        "import pandas as pd\n",
        "import geopandas as gpd\n",
        "import contextily as ctx"
      ],
      "metadata": {
        "id": "eWpG46bx4uWS"
      },
      "execution_count": 3,
      "outputs": []
    },
    {
      "cell_type": "code",
      "source": [
        "comuni = gpd.read_file(\"/content/drive/MyDrive/Colab Notebooks/Com01012022_g\")\n",
        "regioni = gpd.read_file(\"/content/drive/MyDrive/Colab Notebooks/Reg01012022_g (1)\")\n",
        "province = gpd.read_file(\"/content/drive/MyDrive/Colab Notebooks/ProvCM01012022_g\")\n",
        "ripartizioni_geografiche = gpd.read_file(\"/content/drive/MyDrive/Colab Notebooks/Limiti01012022_g/RipGeo01012022_g\")"
      ],
      "metadata": {
        "id": "oyCQTtVt5wVr"
      },
      "execution_count": 4,
      "outputs": []
    },
    {
      "cell_type": "markdown",
      "source": [
        "1. una lista contenente l'elenco delle regioni"
      ],
      "metadata": {
        "id": "67lZkCLe6DUD"
      }
    },
    {
      "cell_type": "code",
      "source": [
        "listaRegioni = list(set(regioni[\"DEN_REG\"]))\n",
        "listaRegioni.sort()\n",
        "listaRegioni"
      ],
      "metadata": {
        "id": "9gynYVcR6FyD"
      },
      "execution_count": null,
      "outputs": []
    },
    {
      "cell_type": "markdown",
      "source": [
        "2. un dizionario con l'elenco delle ripartizioni e il numero di regioni in ogni ripartizione"
      ],
      "metadata": {
        "id": "yiOa_xVR_Trv"
      }
    },
    {
      "cell_type": "code",
      "source": [
        "regioni_ripartizioni = regioni.groupby(\"COD_RIP\")[[\"DEN_REG\"]].count().reset_index()\n",
        "regioni_ripartizioni = regioni_ripartizioni.merge(ripartizioni_geografiche, on = \"COD_RIP\")\n",
        "dizionario = dict(zip(regioni_ripartizioni[\"DEN_RIP\"], regioni_ripartizioni[\"DEN_REG\"]))\n",
        "dizionario"
      ],
      "metadata": {
        "id": "hEJoMsGO_WHo"
      },
      "execution_count": null,
      "outputs": []
    },
    {
      "cell_type": "markdown",
      "source": [
        "3. data una regione, la mappa con i confini della regione"
      ],
      "metadata": {
        "id": "XoJvdVDIAhQ2"
      }
    },
    {
      "cell_type": "code",
      "source": [
        "regione = input(\"inserisci regioni \")\n",
        "regione_scelta = regioni[regioni[\"DEN_REG\"] == regione.capitalize()].to_crs(3857)\n",
        "ax = regione_scelta.plot(figsize = (12, 8), edgecolor = \"k\", facecolor = \"none\")\n",
        "ctx.add_basemap(ax)"
      ],
      "metadata": {
        "id": "6s4DkrvwBnle"
      },
      "execution_count": null,
      "outputs": []
    },
    {
      "cell_type": "markdown",
      "source": [
        "4.  data una regione, la mappa con i confini della regione in nero e i confini delle province di quella regioni in rosso"
      ],
      "metadata": {
        "id": "2Pub1uXkCp-W"
      }
    },
    {
      "cell_type": "code",
      "source": [
        "province3857 = province.to_crs(3857)"
      ],
      "metadata": {
        "id": "3fP8qvpzDUdN"
      },
      "execution_count": 6,
      "outputs": []
    },
    {
      "cell_type": "code",
      "source": [
        "province_regioni = province3857[province3857.within(regione_scelta.geometry.item())]\n",
        "ax = province_regioni.plot(figsize = (12, 8), edgecolor = \"red\", facecolor = \"none\")\n",
        "regione_scelta.plot(ax = ax, edgecolor = \"k\", facecolor = \"none\")\n",
        "ctx.add_basemap(ax)"
      ],
      "metadata": {
        "id": "EhQn6aqHCtCG"
      },
      "execution_count": null,
      "outputs": []
    },
    {
      "cell_type": "markdown",
      "source": [
        "5. data una regione, la mappa con i confini della regione in nero, i confini delle province di quella regioni in rosso e i confini dell'Italia in blu"
      ],
      "metadata": {
        "id": "rLsP62WFDjbl"
      }
    },
    {
      "cell_type": "code",
      "source": [
        "regioni3857 = regioni.to_crs(3857)"
      ],
      "metadata": {
        "id": "-amHMKmyEY4V"
      },
      "execution_count": null,
      "outputs": []
    },
    {
      "cell_type": "code",
      "source": [
        "rip3857 = ripartizioni_geografiche.to_crs(3857)"
      ],
      "metadata": {
        "id": "mWG8iJEYwGB4"
      },
      "execution_count": 10,
      "outputs": []
    },
    {
      "cell_type": "code",
      "source": [
        "from shapely.ops import cascaded_union\n",
        "itaOggetto = cascaded_union(rip3857.geometry)\n",
        "italia = gpd.GeoSeries(itaOggetto)"
      ],
      "metadata": {
        "id": "o-KsKRy_KHq3"
      },
      "execution_count": null,
      "outputs": []
    },
    {
      "cell_type": "code",
      "source": [
        "ax = province_regioni.plot(figsize = (12, 8), edgecolor = \"red\", facecolor = \"none\")\n",
        "regione_scelta.plot(ax = ax, edgecolor = \"k\", facecolor = \"none\")\n",
        "italia.plot(ax = ax, facecolor = \"none\", edgecolor = \"blue\", linewidth = 2)\n",
        "ctx.add_basemap(ax)"
      ],
      "metadata": {
        "id": "l1c4cq_PwdYE"
      },
      "execution_count": null,
      "outputs": []
    },
    {
      "cell_type": "markdown",
      "source": [
        "6. data una regione, i nomi delle regioni che confinano con quella regione. Visualizzare anche il risultato su una mappa"
      ],
      "metadata": {
        "id": "pz3vN69yEoBV"
      }
    },
    {
      "cell_type": "code",
      "source": [
        "regioniConfinanti = regioni3857[regioni3857.touches(regione_scelta.geometry.item())]\n",
        "regioniConfinanti[[\"DEN_REG\"]]"
      ],
      "metadata": {
        "id": "B0YHmBHjEquO"
      },
      "execution_count": null,
      "outputs": []
    },
    {
      "cell_type": "code",
      "source": [
        "ax = regioniConfinanti.plot(figsize = (12, 8), edgecolor = \"k\", facecolor = \"none\")  \n",
        "ctx.add_basemap(ax)"
      ],
      "metadata": {
        "id": "Djasnh4kE_Is"
      },
      "execution_count": null,
      "outputs": []
    },
    {
      "cell_type": "markdown",
      "source": [
        "7. l'elenco delle regioni con la loro estensione in kmq. Ordinare in ordine decrescente sull'estensione"
      ],
      "metadata": {
        "id": "oFZyuEHeFdZF"
      }
    },
    {
      "cell_type": "code",
      "source": [
        "regioni3857[\"Shape_Area\"] = regioni3857[\"Shape_Area\"] / 1000000\n",
        "regioni3857[[\"DEN_REG\", \"Shape_Area\"]].sort_values(by = \"Shape_Area\", ascending = False)"
      ],
      "metadata": {
        "id": "m-FLHPUgFiPd"
      },
      "execution_count": null,
      "outputs": []
    },
    {
      "cell_type": "markdown",
      "source": [
        "8.  rappresentare i dati dell'esercizio precedente con un grafico a barre orizzontali, a barre verticali e con un grafico a torta. Prestare attenzione alla leggibilità delle informazioni riportate sugli assi"
      ],
      "metadata": {
        "id": "z4WZ_JiAGVEn"
      }
    },
    {
      "cell_type": "code",
      "source": [
        "import matplotlib.pyplot as plt"
      ],
      "metadata": {
        "id": "GNicfpySGXOc"
      },
      "execution_count": null,
      "outputs": []
    },
    {
      "cell_type": "code",
      "source": [
        "labels = regioni3857[\"DEN_REG\"]\n",
        "dati = regioni3857[\"Shape_Area\"]\n",
        "\n",
        "fig, ax = plt.subplots(figsize=(15,11))\n",
        "ax.bar(labels, dati, label='estensione per ogni regione italiana')\n",
        "plt.xticks(rotation = 80)\n",
        "ax.set_ylabel('estensione (kmQ)')\n",
        "ax.set_title('regioni')\n",
        "ax.legend()"
      ],
      "metadata": {
        "id": "03mo_J90Hdbb"
      },
      "execution_count": null,
      "outputs": []
    },
    {
      "cell_type": "code",
      "source": [
        "fig, ax = plt.subplots(figsize=(15,11))\n",
        "ax.barh(labels, dati, label='estensione per ogni regione italiana')\n",
        "ax.set_ylabel('regione')\n",
        "ax.set_title('estensione (kmQ)')\n",
        "ax.legend()"
      ],
      "metadata": {
        "id": "laJsJstFIZRc"
      },
      "execution_count": null,
      "outputs": []
    },
    {
      "cell_type": "code",
      "source": [
        "plt.figure(figsize=(16, 8))\n",
        "plt.pie(dati, labels=labels, autopct='%1.1f%%')\n",
        "plt.show()"
      ],
      "metadata": {
        "id": "-tjwgSITIhb7"
      },
      "execution_count": null,
      "outputs": []
    },
    {
      "cell_type": "markdown",
      "source": [
        "9. data una regione, i nomi delle regioni che non confinano con quella regione. Visualizzare anche il risultato su una mappa"
      ],
      "metadata": {
        "id": "JXfVIOsdIs8u"
      }
    },
    {
      "cell_type": "code",
      "source": [
        "regioniNONConfinanti = regioni3857[~regioni3857.touches(regione_scelta.geometry.item())] #l'ondina rappresenta la negazione\n",
        "regioniNONConfinanti[[\"DEN_REG\"]]"
      ],
      "metadata": {
        "id": "SBonItG_IvMD"
      },
      "execution_count": null,
      "outputs": []
    },
    {
      "cell_type": "code",
      "source": [
        "ax = regioniNONConfinanti.plot(figsize = (12, 8), edgecolor = \"k\", facecolor = \"none\")  \n",
        "ctx.add_basemap(ax)"
      ],
      "metadata": {
        "id": "oFvANbswJM47"
      },
      "execution_count": null,
      "outputs": []
    }
  ]
}