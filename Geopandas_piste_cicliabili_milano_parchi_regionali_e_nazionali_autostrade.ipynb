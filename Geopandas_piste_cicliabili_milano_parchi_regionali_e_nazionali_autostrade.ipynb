{
  "nbformat": 4,
  "nbformat_minor": 0,
  "metadata": {
    "colab": {
      "provenance": [],
      "mount_file_id": "16JHm_eUUs301Z5TP0HXw3uDuc-LdjkLr",
      "authorship_tag": "ABX9TyPJnFi3yKT2rnnWjdGmd+Vo",
      "include_colab_link": true
    },
    "kernelspec": {
      "name": "python3",
      "display_name": "Python 3"
    },
    "language_info": {
      "name": "python"
    }
  },
  "cells": [
    {
      "cell_type": "markdown",
      "metadata": {
        "id": "view-in-github",
        "colab_type": "text"
      },
      "source": [
        "<a href=\"https://colab.research.google.com/github/Riccardolotorto/pythonGEOPANDASnuovo/blob/main/Geopandas_piste_cicliabili_milano_parchi_regionali_e_nazionali_autostrade.ipynb\" target=\"_parent\"><img src=\"https://colab.research.google.com/assets/colab-badge.svg\" alt=\"Open In Colab\"/></a>"
      ]
    },
    {
      "cell_type": "code",
      "source": [
        "!pip install geopandas contextily"
      ],
      "metadata": {
        "id": "qf_OPrjjmEDe"
      },
      "execution_count": null,
      "outputs": []
    },
    {
      "cell_type": "code",
      "execution_count": 2,
      "metadata": {
        "id": "w9JB8jFBlxqJ"
      },
      "outputs": [],
      "source": [
        "import pandas as pd\n",
        "import geopandas as gpd\n",
        "import contextily as ctx"
      ]
    },
    {
      "cell_type": "code",
      "source": [
        "quartieri = gpd.read_file(\"/content/drive/MyDrive/Colab Notebooks/ds964_nil_wm.zip\")"
      ],
      "metadata": {
        "id": "lPKiG89UmNuU"
      },
      "execution_count": 3,
      "outputs": []
    },
    {
      "cell_type": "code",
      "source": [
        "bici = gpd.read_file(\"/content/drive/MyDrive/Colab Notebooks/bike_ciclabili.zip\")"
      ],
      "metadata": {
        "id": "wn5n3nOImZsr"
      },
      "execution_count": 4,
      "outputs": []
    },
    {
      "cell_type": "code",
      "source": [
        "quartieri3857 = quartieri.to_crs(3857)\n",
        "bici3857 = bici.to_crs(3857)"
      ],
      "metadata": {
        "id": "uCK4PNPxmeZ6"
      },
      "execution_count": 5,
      "outputs": []
    },
    {
      "cell_type": "markdown",
      "source": [
        "1. visualizzaere il geodataset delel piste ciclabili"
      ],
      "metadata": {
        "id": "V1KonTgymlhH"
      }
    },
    {
      "cell_type": "code",
      "source": [
        "bici.plot()"
      ],
      "metadata": {
        "id": "_aSDGsJ0mnzN"
      },
      "execution_count": null,
      "outputs": []
    },
    {
      "cell_type": "markdown",
      "source": [
        "2. installare (se necessario) e importare contextily e visualizzare la mappa di Milano con l'indicazione dei quartieri in nero (solo confini) e le piste ciclabili"
      ],
      "metadata": {
        "id": "NrRdr9f2mqfi"
      }
    },
    {
      "cell_type": "code",
      "source": [
        "ax = quartieri3857.plot(figsize = (17, 12), edgecolor = \"k\", facecolor = \"none\", linewidth = 2)\n",
        "bici3857.plot(ax = ax, color = \"blue\", linewidth = 3)\n",
        "ctx.add_basemap(ax)"
      ],
      "metadata": {
        "id": "lFdj40kJmwGM"
      },
      "execution_count": null,
      "outputs": []
    },
    {
      "cell_type": "markdown",
      "source": [
        "3. trovare il quartiere meno esteso"
      ],
      "metadata": {
        "id": "izOfJs89nHsM"
      }
    },
    {
      "cell_type": "code",
      "source": [
        "quartiereMeno = quartieri3857[quartieri3857.Shape_Area == quartieri3857.Shape_Area.min()]\n",
        "quartiereMeno"
      ],
      "metadata": {
        "id": "GJxbt4K2nKLK"
      },
      "execution_count": null,
      "outputs": []
    },
    {
      "cell_type": "markdown",
      "source": [
        "4. trovare il quartiere più esteso"
      ],
      "metadata": {
        "id": "_zkroEajnfU_"
      }
    },
    {
      "cell_type": "code",
      "source": [
        "quartierePiu = quartieri3857[quartieri3857.Shape_Area == quartieri3857.Shape_Area.max()]\n",
        "quartierePiu"
      ],
      "metadata": {
        "id": "7lqflJktng40"
      },
      "execution_count": null,
      "outputs": []
    },
    {
      "cell_type": "markdown",
      "source": [
        "5. visualizzare i due quartieri sulla mappa di Milano con i colori indicati nella figura sotto"
      ],
      "metadata": {
        "id": "EIVr7z_OnmIK"
      }
    },
    {
      "cell_type": "code",
      "source": [
        "ax = quartierePiu.plot(figsize = (17, 12), facecolor = \"yellow\")\n",
        "quartiereMeno.plot(ax = ax, facecolor = \"red\")\n",
        "ctx.add_basemap(ax)"
      ],
      "metadata": {
        "id": "eXHJZ8B3nqhs"
      },
      "execution_count": null,
      "outputs": []
    },
    {
      "cell_type": "markdown",
      "source": [
        "6. salvare in un geodataframe le informazioni sul quartiere di Affori, prendendole dal geodataframe dei quartieri"
      ],
      "metadata": {
        "id": "4g6o0oman5qv"
      }
    },
    {
      "cell_type": "code",
      "source": [
        "affori = quartieri3857[quartieri3857.NIL == \"AFFORI\"]\n",
        "affori"
      ],
      "metadata": {
        "id": "XIzjJs-Xn8tF"
      },
      "execution_count": null,
      "outputs": []
    },
    {
      "cell_type": "markdown",
      "source": [
        "7. trovare le piste ciclabili che passano per il quartiere di Affori"
      ],
      "metadata": {
        "id": "TuD_DgnuoKsO"
      }
    },
    {
      "cell_type": "code",
      "source": [
        "pisteAffori = bici3857[bici3857.intersects(affori.geometry.item())]\n",
        "pisteAffori"
      ],
      "metadata": {
        "id": "qQOciuL4oNOK"
      },
      "execution_count": null,
      "outputs": []
    },
    {
      "cell_type": "markdown",
      "source": [
        "8.  visualizzare su una mappa il quartiere di Affori e le piste ciclabili che lo attraversano (evidenziare bene in rosso le piste ciclabili come nell'esempio sotto)"
      ],
      "metadata": {
        "id": "rRnkyJGroXPy"
      }
    },
    {
      "cell_type": "code",
      "source": [
        "ax = affori.plot(figsize = (17, 12), edgecolor = \"k\", facecolor = \"none\")\n",
        "pisteAffori.plot(ax = ax, color = \"red\", linewidth = 3)\n",
        "ctx.add_basemap(ax)"
      ],
      "metadata": {
        "id": "ECcA7Ts2odwM"
      },
      "execution_count": null,
      "outputs": []
    },
    {
      "cell_type": "markdown",
      "source": [
        "9. importare il file parchi regionali e nazionali"
      ],
      "metadata": {
        "id": "5qHtl7r8p8i4"
      }
    },
    {
      "cell_type": "code",
      "source": [
        "parchi = gpd.read_file(\"/content/drive/MyDrive/Colab Notebooks/Parchi_regionali_e_nazionali_polygon.zip\")"
      ],
      "metadata": {
        "id": "JbOf-etvqfu9"
      },
      "execution_count": 19,
      "outputs": []
    },
    {
      "cell_type": "code",
      "source": [
        "parchi3857 = parchi.to_crs(3857)"
      ],
      "metadata": {
        "id": "70l--9Nxq5ex"
      },
      "execution_count": 20,
      "outputs": []
    },
    {
      "cell_type": "markdown",
      "source": [
        "10. importare il file dei comuni"
      ],
      "metadata": {
        "id": "Z6_EBen5rNEX"
      }
    },
    {
      "cell_type": "code",
      "source": [
        "comuni = gpd.read_file(\"/content/drive/MyDrive/Colab Notebooks/Com01012022_g\")"
      ],
      "metadata": {
        "id": "68LclybErPwN"
      },
      "execution_count": 22,
      "outputs": []
    },
    {
      "cell_type": "code",
      "source": [
        "comuni3857 = comuni.to_crs(3857)"
      ],
      "metadata": {
        "id": "H6FSV1jWrWyR"
      },
      "execution_count": 23,
      "outputs": []
    },
    {
      "cell_type": "markdown",
      "source": [
        "11. visualizzi i parchi di Milano e i comuni che vi fanno parte "
      ],
      "metadata": {
        "id": "H2XPvUjUraWq"
      }
    },
    {
      "cell_type": "code",
      "source": [
        "Milano = comuni3857[comuni3857.COMUNE == \"Milano\"]\n",
        "parchi_milano = parchi3857[parchi3857.intersects(Milano.geometry.item())]\n",
        "comuniParchiMilano = comuni3857[comuni3857.intersects(parchi_milano.unary_union)]"
      ],
      "metadata": {
        "id": "Vj9vXjV-rd1z"
      },
      "execution_count": 26,
      "outputs": []
    },
    {
      "cell_type": "code",
      "source": [
        "ax = parchi_milano.plot(figsize = (17, 12), facecolor = \"green\")\n",
        "comuniParchiMilano.plot(ax = ax, edgecolor = \"k\", facecolor = \"none\")\n",
        "ctx.add_basemap(ax)"
      ],
      "metadata": {
        "id": "xEhnZdtWr5Ob"
      },
      "execution_count": null,
      "outputs": []
    },
    {
      "cell_type": "markdown",
      "source": [
        "12. analogo al primo esercizio ma tracciando sulla mappa solo i quartieri di Milano attraversati da parchi (e non tutta la città)"
      ],
      "metadata": {
        "id": "WAU626aIsLii"
      }
    },
    {
      "cell_type": "code",
      "source": [
        "quartieriParchi = quartieri3857[quartieri3857.intersects(parchi_milano.unary_union)]"
      ],
      "metadata": {
        "id": "IpAVSI5DsNEA"
      },
      "execution_count": 28,
      "outputs": []
    },
    {
      "cell_type": "code",
      "source": [
        "ax = parchi_milano.plot(figsize = (17, 12), facecolor = \"green\")\n",
        "comuniParchiMilano.plot(ax = ax, edgecolor = \"k\", facecolor = \"none\")\n",
        "quartieriParchi.plot(ax = ax, edgecolor = \"k\", facecolor = \"none\")\n",
        "ctx.add_basemap(ax)"
      ],
      "metadata": {
        "id": "LDyHR9Apsbuf"
      },
      "execution_count": null,
      "outputs": []
    },
    {
      "cell_type": "markdown",
      "source": [
        "13. dato il nome di un parco, avere la mappa del parco con i comuni che lo ospitano"
      ],
      "metadata": {
        "id": "gigv6W_EtPSS"
      }
    },
    {
      "cell_type": "code",
      "source": [
        "parchi.head()"
      ],
      "metadata": {
        "id": "_UmYRfvCtSEk"
      },
      "execution_count": null,
      "outputs": []
    },
    {
      "cell_type": "code",
      "source": [
        "parco = input(\"inserire nome parco \")\n",
        "if parco in list(parchi3857.NOME):\n",
        "  parcoSelezionato = parchi3857[parchi3857.NOME == parco]\n",
        "  comuniParcoSelezionato = comuni3857[comuni3857.intersects(parcoSelezionato.geometry.item())]\n",
        "  ax = parcoSelezionato.plot(figsize = (17, 12), facecolor = \"green\")\n",
        "  comuniParcoSelezionato.plot(ax = ax, edgecolor = \"k\", facecolor = \"none\")\n",
        "  ctx.add_basemap(ax)\n",
        "else:\n",
        "  print(\"parco non presente\")"
      ],
      "metadata": {
        "id": "q6PgH7sFtXE_"
      },
      "execution_count": null,
      "outputs": []
    },
    {
      "cell_type": "markdown",
      "source": [
        "14.  dato il nome di un parco, avere la mappa del parco con le province che attraversa"
      ],
      "metadata": {
        "id": "BXT0h-hRuSUO"
      }
    },
    {
      "cell_type": "code",
      "source": [
        "province = gpd.read_file(\"/content/drive/MyDrive/Colab Notebooks/ProvCM01012022_g\")"
      ],
      "metadata": {
        "id": "UhsV6sqduUcE"
      },
      "execution_count": 37,
      "outputs": []
    },
    {
      "cell_type": "code",
      "source": [
        "province3857 = province.to_crs(3857)"
      ],
      "metadata": {
        "id": "txd7kBrpuaIn"
      },
      "execution_count": 38,
      "outputs": []
    },
    {
      "cell_type": "code",
      "source": [
        "parco2 = input(\"inserire nome parco \")\n",
        "if parco2 in list(parchi3857.NOME):\n",
        "  parcoSelezionato2 = parchi3857[parchi3857.NOME == parco2]\n",
        "  provinceParcoSelezionato = province3857[province3857.intersects(parcoSelezionato2.geometry.item())]\n",
        "  ax = parcoSelezionato2.plot(figsize = (17, 12), facecolor = \"green\")\n",
        "  provinceParcoSelezionato.plot(ax = ax, edgecolor = \"k\", facecolor = \"none\")\n",
        "  ctx.add_basemap(ax)\n",
        "else:\n",
        "  print(\"parco non presente\")"
      ],
      "metadata": {
        "id": "YdxKBMivufbw"
      },
      "execution_count": null,
      "outputs": []
    },
    {
      "cell_type": "markdown",
      "source": [
        "15. dato un comune, avere i parchi che ospita (elenco e mappa)"
      ],
      "metadata": {
        "id": "lzl3Y06dvBLT"
      }
    },
    {
      "cell_type": "code",
      "source": [
        "comune = input(\"inserisci nome comune \")\n",
        "comuneSelezionato = comuni3857[comuni3857.COMUNE == comune]\n",
        "parchiComune = parchi3857[parchi3857.intersects(comuneSelezionato.geometry.item())]\n",
        "parchiComune"
      ],
      "metadata": {
        "id": "rRAqkMPxvECb"
      },
      "execution_count": null,
      "outputs": []
    },
    {
      "cell_type": "code",
      "source": [
        "ax = parchiComune.plot(figsize = (17, 12), facecolor = \"green\")\n",
        "comuneSelezionato.plot(ax = ax, edgecolor = \"k\", facecolor = \"none\")\n",
        "ctx.add_basemap(ax)"
      ],
      "metadata": {
        "id": "7KA7NKLevqhX"
      },
      "execution_count": null,
      "outputs": []
    },
    {
      "cell_type": "markdown",
      "source": [
        "16. dato il nome di una provincia, avere i parchi che ospita (elenco e mappa)"
      ],
      "metadata": {
        "id": "X0cwc9XIv6mT"
      }
    },
    {
      "cell_type": "code",
      "source": [
        "provincia = input(\"inserisci provincia \")\n",
        "provinciaSelezionata = province3857[province3857.DEN_UTS == provincia]\n",
        "parchiProvincia = parchi3857[parchi3857.intersects(provinciaSelezionata.geometry.item())]\n",
        "parchiProvincia"
      ],
      "metadata": {
        "id": "O1Rsp4arv8gY"
      },
      "execution_count": null,
      "outputs": []
    },
    {
      "cell_type": "code",
      "source": [
        "ax = parchiProvincia.plot(figsize = (17, 12), facecolor = \"green\")\n",
        "provinciaSelezionata.plot(ax = ax, edgecolor = \"k\", facecolor = \"none\")\n",
        "ctx.add_basemap(ax)"
      ],
      "metadata": {
        "id": "GZWU1W8qwaZn"
      },
      "execution_count": null,
      "outputs": []
    },
    {
      "cell_type": "markdown",
      "source": [
        "17. calcola la distanza di un comune inserito dall'utente al comune di Bresso"
      ],
      "metadata": {
        "id": "yuVOGQl0wvsr"
      }
    },
    {
      "cell_type": "code",
      "source": [
        "comuneScelto = input(\"inserisci comune \")\n",
        "distanza = int((comuni3857[comuni3857.COMUNE == comuneScelto].distance(comuni3857[comuni3857.COMUNE == \"Bresso\"].geometry.item())) / 1000)\n",
        "distanza"
      ],
      "metadata": {
        "colab": {
          "base_uri": "https://localhost:8080/"
        },
        "id": "sqtHMdtHx8rV",
        "outputId": "59b60dab-2958-4815-c620-f1050410e798"
      },
      "execution_count": 50,
      "outputs": [
        {
          "name": "stdout",
          "output_type": "stream",
          "text": [
            "inserisci comune Napoli\n"
          ]
        },
        {
          "output_type": "execute_result",
          "data": {
            "text/plain": [
              "899"
            ]
          },
          "metadata": {},
          "execution_count": 50
        }
      ]
    },
    {
      "cell_type": "markdown",
      "source": [
        "18. caricare il file delle autostrade"
      ],
      "metadata": {
        "id": "DHk-jyQAyl0D"
      }
    },
    {
      "cell_type": "code",
      "source": [
        "autostrade = gpd.read_file(\"/content/drive/MyDrive/Colab Notebooks/Autostrade_10000_CT10_line.zip\")"
      ],
      "metadata": {
        "id": "R4eHT1A1yqnH"
      },
      "execution_count": 55,
      "outputs": []
    },
    {
      "cell_type": "code",
      "source": [
        "autostrade3857 = autostrade.to_crs(3857)"
      ],
      "metadata": {
        "id": "XVxOwXYPzdwl"
      },
      "execution_count": 58,
      "outputs": []
    },
    {
      "cell_type": "markdown",
      "source": [
        "19. visualizzare la mappa delle autostrade"
      ],
      "metadata": {
        "id": "GQyTd0DUzVBc"
      }
    },
    {
      "cell_type": "code",
      "source": [
        "ax = autostrade3857.plot(figsize = (17, 12), color = \"blue\", linewidth = 2)\n",
        "ctx.add_basemap(ax)"
      ],
      "metadata": {
        "id": "MKzLnhxxzYMf"
      },
      "execution_count": null,
      "outputs": []
    },
    {
      "cell_type": "markdown",
      "source": [
        "20. visualizzare il numero di autostrade presenti in una certa provincia della Lombardia inserita dall'utente"
      ],
      "metadata": {
        "id": "U-tGWUY4zxWc"
      }
    },
    {
      "cell_type": "code",
      "source": [
        "provinciaUtente = input(\"inserisci una provincia \")\n",
        "provinciaSel = province3857[province3857.DEN_UTS == provinciaUtente]\n",
        "autostradeProvincia = autostrade3857[autostrade3857.crosses(provinciaSel.geometry.item())]\n",
        "print(\"Nella pronvica di \" + provinciaUtente + \" ci sono \" + str(len(autostradeProvincia)) + \" autostrade\")"
      ],
      "metadata": {
        "id": "tX3E8wPJz0fK"
      },
      "execution_count": null,
      "outputs": []
    },
    {
      "cell_type": "markdown",
      "source": [
        "21. modificare l'esercizio precedente aggiungendo la mappa della provincia e le autostrade"
      ],
      "metadata": {
        "id": "I9aDcwzu-FGe"
      }
    },
    {
      "cell_type": "code",
      "source": [
        "ax = provinciaSel.plot(figsize = (17, 12), edgecolor = \"k\", facecolor = \"none\")\n",
        "autostradeProvincia.plot(ax = ax, color = \"blue\")\n",
        "ctx.add_basemap(ax)"
      ],
      "metadata": {
        "id": "xbcZXZqH-HfC"
      },
      "execution_count": null,
      "outputs": []
    },
    {
      "cell_type": "markdown",
      "source": [
        "22. caricare il geodataframe delle regioni e visualizzare la Lombardia sulla mappa come nell'esempio"
      ],
      "metadata": {
        "id": "jLdL5yyK-6JP"
      }
    },
    {
      "cell_type": "code",
      "source": [
        "regioni = gpd.read_file(\"/content/drive/MyDrive/Colab Notebooks/Reg01012022_g (1)\")"
      ],
      "metadata": {
        "id": "FYgQ9LKJ-90G"
      },
      "execution_count": 65,
      "outputs": []
    },
    {
      "cell_type": "code",
      "source": [
        "regioni3857 = regioni.to_crs(3857)"
      ],
      "metadata": {
        "id": "NO5aPjPy_HZQ"
      },
      "execution_count": 66,
      "outputs": []
    },
    {
      "cell_type": "code",
      "source": [
        "lombardia = regioni3857[regioni3857.DEN_REG == \"Lombardia\"]\n",
        "ax = lombardia.plot(figsize = (17, 12), edgecolor = \"k\", facecolor = \"none\", linewidth = 3)\n",
        "ctx.add_basemap(ax)"
      ],
      "metadata": {
        "id": "61Oia_vp_K9z"
      },
      "execution_count": null,
      "outputs": []
    },
    {
      "cell_type": "markdown",
      "source": [
        "23. visualizzare sia i confini delle Lombardia sia i confini delle province lombarde. Usare gli opportuni metodi di geopandas per trovare le province lombarde. Fare in modo che la visualizzazione sia uguale a quella proposta"
      ],
      "metadata": {
        "id": "XGUmRRNI_pfR"
      }
    },
    {
      "cell_type": "code",
      "source": [
        "provinceLombardia = province3857[province3857.within(lombardia.geometry.item())]\n",
        "ax = provinceLombardia.plot(figsize = (17, 12), edgecolor = \"blue\", facecolor = \"none\", linewidth = 3)\n",
        "lombardia.plot(ax = ax, edgecolor = \"k\", facecolor = \"none\", linewidth = 3)\n",
        "ctx.add_basemap(ax)"
      ],
      "metadata": {
        "id": "Gz3AK3eH_saC"
      },
      "execution_count": null,
      "outputs": []
    },
    {
      "cell_type": "markdown",
      "source": [
        "24. visualizzare in rosso le province della Lombardia che sono attraversate da autostrade. Fare in mnodo che si possa vedere comunque la mappa della Lombardia."
      ],
      "metadata": {
        "id": "LXxXaP8eAPdq"
      }
    },
    {
      "cell_type": "code",
      "source": [
        "provinceLombardiaAutostrade = provinceLombardia[provinceLombardia.intersects(autostrade3857.unary_union)]"
      ],
      "metadata": {
        "id": "SrUKKlnQAUjj"
      },
      "execution_count": 70,
      "outputs": []
    },
    {
      "cell_type": "code",
      "source": [
        "ax = provinceLombardiaAutostrade.plot(figsize = (17, 12), edgecolor = \"blue\", facecolor = \"red\", alpha = 0.5)\n",
        "lombardia.plot(ax = ax, edgecolor = \"k\", facecolor = \"none\")\n",
        "ctx.add_basemap(ax)"
      ],
      "metadata": {
        "id": "KQ6gJAmiAki3"
      },
      "execution_count": null,
      "outputs": []
    },
    {
      "cell_type": "markdown",
      "source": [
        "25. visualizzare in verde le province della Lombardia che non sono attraversate da autostrade. Fare in mnodo che si possa vedere comunque la mappa."
      ],
      "metadata": {
        "id": "aYslKQBQAz_y"
      }
    },
    {
      "cell_type": "code",
      "source": [
        "provinceLombardiaNOAutostrade = provinceLombardia[~provinceLombardia.intersects(autostrade3857.unary_union)]"
      ],
      "metadata": {
        "id": "Jzvxj9xcA2Gb"
      },
      "execution_count": 72,
      "outputs": []
    },
    {
      "cell_type": "code",
      "source": [
        "ax = provinceLombardiaNOAutostrade.plot(figsize = (17, 12), edgecolor = \"blue\", facecolor = \"green\", alpha = 0.5)\n",
        "lombardia.plot(ax = ax, edgecolor = \"k\", facecolor = \"none\")\n",
        "ctx.add_basemap(ax)"
      ],
      "metadata": {
        "id": "rs0-bwLfA82D"
      },
      "execution_count": null,
      "outputs": []
    },
    {
      "cell_type": "markdown",
      "source": [
        "26. aggiungere ad ogni autostrada le informazioni riguardanti la provincia lombarda che attraversa"
      ],
      "metadata": {
        "id": "3a1C16tuBFRq"
      }
    },
    {
      "cell_type": "code",
      "source": [
        "joined = gpd.sjoin(autostrade3857, provinceLombardia, how = \"left\", predicate=\"crosses\")\n",
        "joined"
      ],
      "metadata": {
        "id": "GV8-HtqgBRR9"
      },
      "execution_count": null,
      "outputs": []
    },
    {
      "cell_type": "markdown",
      "source": [
        "27. visualizzare il numero di autostrade che sono presenti in ogni provincia. Ordinare in ordine decrescente sul numero di autostrade"
      ],
      "metadata": {
        "id": "jUhqi-3RB0ZU"
      }
    },
    {
      "cell_type": "code",
      "source": [
        "numAutoPerProv = joined.groupby(\"DEN_UTS\")[[\"PERCORSO\"]].count().sort_values(by=\"PERCORSO\", ascending = False).reset_index()\n",
        "numAutoPerProv"
      ],
      "metadata": {
        "id": "Y2uwveFYB5dr"
      },
      "execution_count": null,
      "outputs": []
    },
    {
      "cell_type": "markdown",
      "source": [
        "28. visualizzare una mappa con le diverse province lombarde colorate a seconda del numero di autostrade presenti, con una legenda che indichi il significato dei colori"
      ],
      "metadata": {
        "id": "J8rv-lnXCzXl"
      }
    },
    {
      "cell_type": "code",
      "source": [
        "finale = provinceLombardia.merge(numAutoPerProv, on = \"DEN_UTS\")\n",
        "finale"
      ],
      "metadata": {
        "id": "vsTFaJzuC4jp"
      },
      "execution_count": null,
      "outputs": []
    },
    {
      "cell_type": "code",
      "source": [
        "ax = finale.plot(figsize = (17, 12), column = \"PERCORSO\", legend = True, cmap = 'Greens', alpha = 0.5)\n",
        "ctx.add_basemap(ax)"
      ],
      "metadata": {
        "id": "q6GTUTT2DF5M"
      },
      "execution_count": null,
      "outputs": []
    },
    {
      "cell_type": "markdown",
      "source": [
        "29. aggiungere alla mappa precedente anche le province che non sono attraversate da autostrade. Lasciarle trasparenti."
      ],
      "metadata": {
        "id": "rpJF7nO4D1-n"
      }
    },
    {
      "cell_type": "code",
      "source": [
        "ax = finale.plot(figsize = (17, 12), column = \"PERCORSO\", legend = True, cmap = 'Greens', alpha = 0.5)\n",
        "provinceLombardiaNOAutostrade.plot(ax = ax, edgecolor = \"green\", facecolor = \"none\", linewidth = 2)\n",
        "ctx.add_basemap(ax)"
      ],
      "metadata": {
        "id": "lzyCoRS0D2-R"
      },
      "execution_count": null,
      "outputs": []
    },
    {
      "cell_type": "markdown",
      "source": [
        "30. far inserire un punto della Lombardia all'utente e visualizzare l'autostrada più vicina"
      ],
      "metadata": {
        "id": "nybGcZ7xEM_I"
      }
    },
    {
      "cell_type": "code",
      "source": [
        "from shapely.geometry import Point"
      ],
      "metadata": {
        "id": "pTe3rYA7EPwj"
      },
      "execution_count": 92,
      "outputs": []
    },
    {
      "cell_type": "code",
      "source": [
        "longitudine = float(input(\"inserisci una longitudine\"))\n",
        "latitudine = float(input(\"inserisci una latitudine\"))\n",
        "Punto = gpd.GeoSeries([Point(longitudine, latitudine)], crs = 4326).to_crs(3857)"
      ],
      "metadata": {
        "colab": {
          "base_uri": "https://localhost:8080/"
        },
        "id": "zJWiEC_kEYPo",
        "outputId": "a42b13d1-a732-4cfe-830b-464cfe2d00c3"
      },
      "execution_count": 96,
      "outputs": [
        {
          "name": "stdout",
          "output_type": "stream",
          "text": [
            "inserisci una longitudine9.17\n",
            "inserisci una latitudine45\n"
          ]
        }
      ]
    },
    {
      "cell_type": "code",
      "source": [
        "autostradeDistanti = autostrade3857"
      ],
      "metadata": {
        "id": "MwKGm00LFbeM"
      },
      "execution_count": 97,
      "outputs": []
    },
    {
      "cell_type": "code",
      "source": [
        "autostradeDistanti[\"Distanza\"] = autostradeDistanti.distance(Punto.geometry.item())"
      ],
      "metadata": {
        "id": "iuiN_wELFlcS"
      },
      "execution_count": 98,
      "outputs": []
    },
    {
      "cell_type": "code",
      "source": [
        "autostradeDistanti[autostradeDistanti.Distanza == autostradeDistanti.Distanza.min()]"
      ],
      "metadata": {
        "colab": {
          "base_uri": "https://localhost:8080/",
          "height": 81
        },
        "id": "-t4UbtbrFzam",
        "outputId": "f16b5d70-86a9-42fc-dc4c-96c7a2e97b5c"
      },
      "execution_count": 99,
      "outputs": [
        {
          "output_type": "execute_result",
          "data": {
            "text/plain": [
              "    TS_EID COD_PE                              PERCORSO  \\\n",
              "22    17.0    A21  AUTOSTRADA TORINO- PIACENZA- BRESCIA   \n",
              "\n",
              "                                             geometry     Distanza  \n",
              "22  LINESTRING (996736.781 5619566.680, 996784.937...  7033.846126  "
            ],
            "text/html": [
              "\n",
              "  <div id=\"df-baa78a1e-4c0c-498b-a698-75ecae26ff06\">\n",
              "    <div class=\"colab-df-container\">\n",
              "      <div>\n",
              "<style scoped>\n",
              "    .dataframe tbody tr th:only-of-type {\n",
              "        vertical-align: middle;\n",
              "    }\n",
              "\n",
              "    .dataframe tbody tr th {\n",
              "        vertical-align: top;\n",
              "    }\n",
              "\n",
              "    .dataframe thead th {\n",
              "        text-align: right;\n",
              "    }\n",
              "</style>\n",
              "<table border=\"1\" class=\"dataframe\">\n",
              "  <thead>\n",
              "    <tr style=\"text-align: right;\">\n",
              "      <th></th>\n",
              "      <th>TS_EID</th>\n",
              "      <th>COD_PE</th>\n",
              "      <th>PERCORSO</th>\n",
              "      <th>geometry</th>\n",
              "      <th>Distanza</th>\n",
              "    </tr>\n",
              "  </thead>\n",
              "  <tbody>\n",
              "    <tr>\n",
              "      <th>22</th>\n",
              "      <td>17.0</td>\n",
              "      <td>A21</td>\n",
              "      <td>AUTOSTRADA TORINO- PIACENZA- BRESCIA</td>\n",
              "      <td>LINESTRING (996736.781 5619566.680, 996784.937...</td>\n",
              "      <td>7033.846126</td>\n",
              "    </tr>\n",
              "  </tbody>\n",
              "</table>\n",
              "</div>\n",
              "      <button class=\"colab-df-convert\" onclick=\"convertToInteractive('df-baa78a1e-4c0c-498b-a698-75ecae26ff06')\"\n",
              "              title=\"Convert this dataframe to an interactive table.\"\n",
              "              style=\"display:none;\">\n",
              "        \n",
              "  <svg xmlns=\"http://www.w3.org/2000/svg\" height=\"24px\"viewBox=\"0 0 24 24\"\n",
              "       width=\"24px\">\n",
              "    <path d=\"M0 0h24v24H0V0z\" fill=\"none\"/>\n",
              "    <path d=\"M18.56 5.44l.94 2.06.94-2.06 2.06-.94-2.06-.94-.94-2.06-.94 2.06-2.06.94zm-11 1L8.5 8.5l.94-2.06 2.06-.94-2.06-.94L8.5 2.5l-.94 2.06-2.06.94zm10 10l.94 2.06.94-2.06 2.06-.94-2.06-.94-.94-2.06-.94 2.06-2.06.94z\"/><path d=\"M17.41 7.96l-1.37-1.37c-.4-.4-.92-.59-1.43-.59-.52 0-1.04.2-1.43.59L10.3 9.45l-7.72 7.72c-.78.78-.78 2.05 0 2.83L4 21.41c.39.39.9.59 1.41.59.51 0 1.02-.2 1.41-.59l7.78-7.78 2.81-2.81c.8-.78.8-2.07 0-2.86zM5.41 20L4 18.59l7.72-7.72 1.47 1.35L5.41 20z\"/>\n",
              "  </svg>\n",
              "      </button>\n",
              "      \n",
              "  <style>\n",
              "    .colab-df-container {\n",
              "      display:flex;\n",
              "      flex-wrap:wrap;\n",
              "      gap: 12px;\n",
              "    }\n",
              "\n",
              "    .colab-df-convert {\n",
              "      background-color: #E8F0FE;\n",
              "      border: none;\n",
              "      border-radius: 50%;\n",
              "      cursor: pointer;\n",
              "      display: none;\n",
              "      fill: #1967D2;\n",
              "      height: 32px;\n",
              "      padding: 0 0 0 0;\n",
              "      width: 32px;\n",
              "    }\n",
              "\n",
              "    .colab-df-convert:hover {\n",
              "      background-color: #E2EBFA;\n",
              "      box-shadow: 0px 1px 2px rgba(60, 64, 67, 0.3), 0px 1px 3px 1px rgba(60, 64, 67, 0.15);\n",
              "      fill: #174EA6;\n",
              "    }\n",
              "\n",
              "    [theme=dark] .colab-df-convert {\n",
              "      background-color: #3B4455;\n",
              "      fill: #D2E3FC;\n",
              "    }\n",
              "\n",
              "    [theme=dark] .colab-df-convert:hover {\n",
              "      background-color: #434B5C;\n",
              "      box-shadow: 0px 1px 3px 1px rgba(0, 0, 0, 0.15);\n",
              "      filter: drop-shadow(0px 1px 2px rgba(0, 0, 0, 0.3));\n",
              "      fill: #FFFFFF;\n",
              "    }\n",
              "  </style>\n",
              "\n",
              "      <script>\n",
              "        const buttonEl =\n",
              "          document.querySelector('#df-baa78a1e-4c0c-498b-a698-75ecae26ff06 button.colab-df-convert');\n",
              "        buttonEl.style.display =\n",
              "          google.colab.kernel.accessAllowed ? 'block' : 'none';\n",
              "\n",
              "        async function convertToInteractive(key) {\n",
              "          const element = document.querySelector('#df-baa78a1e-4c0c-498b-a698-75ecae26ff06');\n",
              "          const dataTable =\n",
              "            await google.colab.kernel.invokeFunction('convertToInteractive',\n",
              "                                                     [key], {});\n",
              "          if (!dataTable) return;\n",
              "\n",
              "          const docLinkHtml = 'Like what you see? Visit the ' +\n",
              "            '<a target=\"_blank\" href=https://colab.research.google.com/notebooks/data_table.ipynb>data table notebook</a>'\n",
              "            + ' to learn more about interactive tables.';\n",
              "          element.innerHTML = '';\n",
              "          dataTable['output_type'] = 'display_data';\n",
              "          await google.colab.output.renderOutput(dataTable, element);\n",
              "          const docLink = document.createElement('div');\n",
              "          docLink.innerHTML = docLinkHtml;\n",
              "          element.appendChild(docLink);\n",
              "        }\n",
              "      </script>\n",
              "    </div>\n",
              "  </div>\n",
              "  "
            ]
          },
          "metadata": {},
          "execution_count": 99
        }
      ]
    }
  ]
}