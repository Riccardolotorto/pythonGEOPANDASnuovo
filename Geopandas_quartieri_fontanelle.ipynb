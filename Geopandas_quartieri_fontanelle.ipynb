{
  "nbformat": 4,
  "nbformat_minor": 0,
  "metadata": {
    "colab": {
      "provenance": []
    },
    "kernelspec": {
      "name": "python3",
      "display_name": "Python 3"
    },
    "language_info": {
      "name": "python"
    }
  },
  "cells": [
    {
      "cell_type": "code",
      "execution_count": null,
      "metadata": {
        "id": "QU5cjJOneVpf"
      },
      "outputs": [],
      "source": [
        "!pip install geopandas"
      ]
    },
    {
      "cell_type": "code",
      "source": [
        "!pip install contextily"
      ],
      "metadata": {
        "id": "Ro1IKHABeuQ1"
      },
      "execution_count": null,
      "outputs": []
    },
    {
      "cell_type": "code",
      "source": [
        "import geopandas as gpd\n",
        "import pandas as pd\n",
        "import contextily as ctx"
      ],
      "metadata": {
        "id": "D5YFPS2-ezOX"
      },
      "execution_count": 3,
      "outputs": []
    },
    {
      "cell_type": "code",
      "source": [
        "quartieri = gpd.read_file(\"/content/drive/MyDrive/Colab Notebooks/ds964_nil_wm.zip\")"
      ],
      "metadata": {
        "id": "z3caOyv2e8Xp"
      },
      "execution_count": 4,
      "outputs": []
    },
    {
      "cell_type": "code",
      "source": [
        "fontane = gpd.read_file(\"/content/drive/MyDrive/Colab Notebooks/Fontanelle.zip\")"
      ],
      "metadata": {
        "id": "7etUcUwWfHDe"
      },
      "execution_count": 5,
      "outputs": []
    },
    {
      "cell_type": "markdown",
      "source": [
        "1. visualizzare su una mappa un quartiere inserito dall'utente"
      ],
      "metadata": {
        "id": "bAo__N0mfQU0"
      }
    },
    {
      "cell_type": "code",
      "source": [
        "q = input(\"inserisci un quartiere: \")\n",
        "quartiere_selezionato = quartieri[quartieri[\"NIL\"].str.contains(q.upper())].to_crs(3857)\n",
        "ax = quartiere_selezionato.plot(figsize = (12, 6), facecolor = \"none\", edgecolor = \"k\", linewidth = 2)\n",
        "ctx.add_basemap(ax)"
      ],
      "metadata": {
        "id": "rQTKZtEJfWNU"
      },
      "execution_count": null,
      "outputs": []
    },
    {
      "cell_type": "markdown",
      "source": [
        "2. visualizzare su una mappa le fontanelle"
      ],
      "metadata": {
        "id": "RbriJOv7f_GH"
      }
    },
    {
      "cell_type": "code",
      "source": [
        "ax = fontane.to_crs(3857).plot(figsize = (12, 6), markersize = 15, color = \"red\")\n",
        "ctx.add_basemap(ax)"
      ],
      "metadata": {
        "id": "PuAWepCXgCf4"
      },
      "execution_count": null,
      "outputs": []
    },
    {
      "cell_type": "markdown",
      "source": [
        "3. visualizzare su una mappa i quartieri che contengono fontanelle e loro stesse"
      ],
      "metadata": {
        "id": "gQQvlUEXggTI"
      }
    },
    {
      "cell_type": "code",
      "source": [
        "quartieri_fontane = quartieri[quartieri.intersects(fontane.unary_union)].to_crs(3857)\n",
        "ax = quartieri_fontane.plot(figsize = (15, 8), edgecolor = \"k\", facecolor = \"none\")\n",
        "fontane.to_crs(3857).plot(ax = ax, markersize = 13, color = \"red\")\n",
        "ctx.add_basemap(ax)"
      ],
      "metadata": {
        "id": "vDE114QLg5_8"
      },
      "execution_count": null,
      "outputs": []
    },
    {
      "cell_type": "markdown",
      "source": [
        "4. visualizzare i quartieri con un colore in base al numero di fontanelle "
      ],
      "metadata": {
        "id": "GwQhP1FRhWjh"
      }
    },
    {
      "cell_type": "code",
      "source": [
        "joined = gpd.sjoin(fontane.to_crs(3857), quartieri_fontane, how = \"left\")\n",
        "joined"
      ],
      "metadata": {
        "id": "6Fnx7vZFhaty"
      },
      "execution_count": null,
      "outputs": []
    },
    {
      "cell_type": "code",
      "source": [
        "fontane_per_quartiere = joined.groupby(\"NIL\").count()[[\"Licenza\"]].sort_values(by = \"Licenza\", ascending = False).reset_index()\n",
        "fontane_per_quartiere"
      ],
      "metadata": {
        "id": "GulcCQ_rh451"
      },
      "execution_count": null,
      "outputs": []
    },
    {
      "cell_type": "code",
      "source": [
        "finale = quartieri_fontane.merge(fontane_per_quartiere, on = \"NIL\")\n",
        "finale"
      ],
      "metadata": {
        "id": "FvQB6IADiNzE"
      },
      "execution_count": null,
      "outputs": []
    },
    {
      "cell_type": "code",
      "source": [
        "ax = finale.plot(figsize = (15, 9), column = \"Licenza\", legend = True, alpha = 0.6)\n",
        "ctx.add_basemap(ax)"
      ],
      "metadata": {
        "id": "3oedBm6jii1U"
      },
      "execution_count": null,
      "outputs": []
    },
    {
      "cell_type": "markdown",
      "source": [
        "5. fare un grafico a torta in base al numero di fontane per quartiere"
      ],
      "metadata": {
        "id": "KeGHzv6wi7sE"
      }
    },
    {
      "cell_type": "code",
      "source": [
        "import matplotlib.pyplot as plt\n",
        "\n",
        "dati = fontane_per_quartiere[\"Licenza\"]\n",
        "stringhe = fontane_per_quartiere[\"NIL\"]\n",
        "plt.figure(figsize=(16, 8))\n",
        "plt.pie(dati, labels=stringhe, autopct='%1.1f%%')\n",
        "plt.show()"
      ],
      "metadata": {
        "id": "HGtsDUbKi_4i"
      },
      "execution_count": null,
      "outputs": []
    }
  ]
}